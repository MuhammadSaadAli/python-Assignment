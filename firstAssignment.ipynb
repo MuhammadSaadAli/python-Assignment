{
 "cells": [
  {
   "cell_type": "code",
   "execution_count": 20,
   "id": "0aa7eaa7",
   "metadata": {},
   "outputs": [
    {
     "name": "stdout",
     "output_type": "stream",
     "text": [
      "Twinkle, twinkle, little star \n",
      "     How I wonder what you are \n",
      "         Up above the world so high \n",
      "         Like a diamond in the sky \n",
      "Twinkle, twinkle, little star \n",
      "     How I wonder what you are\n"
     ]
    }
   ],
   "source": [
    "print(\"Twinkle, twinkle, little star \\n     How I wonder what you are \\n         Up above the world so high \\n         Like a diamond in the sky \\nTwinkle, twinkle, little star \\n     How I wonder what you are\")"
   ]
  },
  {
   "cell_type": "code",
   "execution_count": 17,
   "id": "ade21ac1",
   "metadata": {},
   "outputs": [
    {
     "name": "stdout",
     "output_type": "stream",
     "text": [
      "3.8.8\n"
     ]
    }
   ],
   "source": [
    "from platform import python_version\n",
    "print(python_version())"
   ]
  },
  {
   "cell_type": "code",
   "execution_count": 21,
   "id": "1a001978",
   "metadata": {},
   "outputs": [
    {
     "name": "stdout",
     "output_type": "stream",
     "text": [
      "Today's date: 2022-01-01\n"
     ]
    }
   ],
   "source": [
    "from datetime import date\n",
    "\n",
    "today = date.today()\n",
    "print(\"Today's date:\", today)"
   ]
  },
  {
   "cell_type": "code",
   "execution_count": 25,
   "id": "026a2d2f",
   "metadata": {},
   "outputs": [
    {
     "name": "stdout",
     "output_type": "stream",
     "text": [
      "Enter the radius of the circle6\n",
      "113.04\n"
     ]
    }
   ],
   "source": [
    "radius = int(input(\"Enter the radius of the circle\"))\n",
    "area = 3.14 * (radius * radius)\n",
    "print(area)"
   ]
  },
  {
   "cell_type": "code",
   "execution_count": 28,
   "id": "7afa8985",
   "metadata": {},
   "outputs": [
    {
     "name": "stdout",
     "output_type": "stream",
     "text": [
      "Enter first name saad\n",
      "Enter last name ali\n",
      "ali saad\n"
     ]
    }
   ],
   "source": [
    "firstName = input(\"Enter first name \")\n",
    "lastName = input(\"Enter last name \")\n",
    "print(lastName + \" \" + firstName)"
   ]
  },
  {
   "cell_type": "code",
   "execution_count": 29,
   "id": "1ab702b8",
   "metadata": {},
   "outputs": [
    {
     "name": "stdout",
     "output_type": "stream",
     "text": [
      "Enter the value of A 2\n",
      "Enter the value of B 3\n",
      "5\n"
     ]
    }
   ],
   "source": [
    "firstNum = int(input(\"Enter the value of A \"))\n",
    "secondNum = int(input(\"Enter the value of B \"))\n",
    "print(firstNum + secondNum)"
   ]
  },
  {
   "cell_type": "code",
   "execution_count": null,
   "id": "5868c8cf",
   "metadata": {},
   "outputs": [],
   "source": []
  }
 ],
 "metadata": {
  "kernelspec": {
   "display_name": "Python 3",
   "language": "python",
   "name": "python3"
  },
  "language_info": {
   "codemirror_mode": {
    "name": "ipython",
    "version": 3
   },
   "file_extension": ".py",
   "mimetype": "text/x-python",
   "name": "python",
   "nbconvert_exporter": "python",
   "pygments_lexer": "ipython3",
   "version": "3.8.8"
  }
 },
 "nbformat": 4,
 "nbformat_minor": 5
}
